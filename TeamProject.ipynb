{
 "cells": [
  {
   "cell_type": "markdown",
   "metadata": {},
   "source": [
    "## Data Science Team Project\n",
    "**Authors:** Kerry Effinger and Katie Zopff  \n",
    "**Version:** 1.0"
   ]
  },
  {
   "cell_type": "code",
   "execution_count": 44,
   "metadata": {},
   "outputs": [],
   "source": [
    "import numpy as np\n",
    "import pandas as pd\n",
    "import seaborn as sns\n",
    "import matplotlib.pyplot as plt\n",
    "%matplotlib inline\n"
   ]
  },
  {
   "cell_type": "code",
   "execution_count": 3,
   "metadata": {},
   "outputs": [],
   "source": [
    "df = pd.read_csv('Training_set_intermediate.csv')"
   ]
  },
  {
   "cell_type": "code",
   "execution_count": 4,
   "metadata": {},
   "outputs": [],
   "source": [
    "df['Number_of_prev_cond'] = df['Number_of_prev_cond'].fillna(1.0)\n",
    "df['A'] = df['A'].fillna(1.0)\n",
    "df['B'] = df['B'].fillna(0.0)\n",
    "df['C'] = df['C'].fillna(0.0)\n",
    "df['D'] = df['D'].fillna(0.0)\n",
    "df['E'] = df['E'].fillna(0.0)\n",
    "df['F'] = df['F'].fillna(0.0)\n",
    "df['Z'] = df['Z'].fillna(0.0)"
   ]
  },
  {
   "cell_type": "code",
   "execution_count": 5,
   "metadata": {},
   "outputs": [],
   "source": [
    "df = df.dropna()"
   ]
  },
  {
   "cell_type": "code",
   "execution_count": 6,
   "metadata": {},
   "outputs": [],
   "source": [
    "df = df.drop(columns=\"Z\")"
   ]
  },
  {
   "cell_type": "code",
   "execution_count": 8,
   "metadata": {},
   "outputs": [],
   "source": [
    "#df"
   ]
  },
  {
   "cell_type": "markdown",
   "metadata": {},
   "source": [
    "### Decimal Normalization"
   ]
  },
  {
   "cell_type": "code",
   "execution_count": 9,
   "metadata": {},
   "outputs": [],
   "source": [
    "df_normalized = df"
   ]
  },
  {
   "cell_type": "code",
   "execution_count": 10,
   "metadata": {},
   "outputs": [],
   "source": [
    "df_normalized['Patient_Age'] = df_normalized['Patient_Age']/100\n",
    "df_normalized['Patient_Body_Mass_Index'] = df_normalized['Patient_Body_Mass_Index']/100"
   ]
  },
  {
   "cell_type": "markdown",
   "metadata": {},
   "source": [
    "## **Splitting Data**"
   ]
  },
  {
   "cell_type": "code",
   "execution_count": 11,
   "metadata": {},
   "outputs": [],
   "source": [
    "from sklearn.model_selection import train_test_split"
   ]
  },
  {
   "cell_type": "code",
   "execution_count": 13,
   "metadata": {},
   "outputs": [],
   "source": [
    "X = np.array(df[['Patient_Age', 'Patient_Body_Mass_Index', 'Number_of_prev_cond']])\n",
    "y = np.array(df['Survived_1_year'])\n",
    "\n",
    "X_norm = np.array(df_normalized[['Patient_Age', 'Patient_Body_Mass_Index', 'Number_of_prev_cond']])\n",
    "y_norm = np.array(df_normalized['Survived_1_year'])"
   ]
  },
  {
   "cell_type": "code",
   "execution_count": 14,
   "metadata": {},
   "outputs": [
    {
     "data": {
      "text/plain": [
       "array([[0.56      , 0.18479385, 2.        ],\n",
       "       [0.36      , 0.22945566, 1.        ],\n",
       "       [0.48      , 0.27510027, 1.        ],\n",
       "       ...,\n",
       "       [0.63      , 0.27500039, 1.        ],\n",
       "       [0.25      , 0.23719125, 2.        ],\n",
       "       [0.5       , 0.18391156, 4.        ]])"
      ]
     },
     "execution_count": 14,
     "metadata": {},
     "output_type": "execute_result"
    }
   ],
   "source": [
    "X_norm"
   ]
  },
  {
   "cell_type": "markdown",
   "metadata": {},
   "source": [
    "### Code to split data 60/20/20 "
   ]
  },
  {
   "cell_type": "code",
   "execution_count": 15,
   "metadata": {},
   "outputs": [],
   "source": [
    "x_train, x_test_prime, y_train, y_test_prime = train_test_split(X, y, test_size=.40, random_state=42)"
   ]
  },
  {
   "cell_type": "code",
   "execution_count": 16,
   "metadata": {},
   "outputs": [],
   "source": [
    "x_validate, x_test, y_validate, y_test = train_test_split(x_test_prime, y_test_prime, test_size=.50, random_state=42)"
   ]
  },
  {
   "cell_type": "code",
   "execution_count": 17,
   "metadata": {},
   "outputs": [
    {
     "name": "stdout",
     "output_type": "stream",
     "text": [
      "13850 4617 4617\n"
     ]
    }
   ],
   "source": [
    "print(len(x_train), len(x_validate), len(x_test))"
   ]
  },
  {
   "cell_type": "code",
   "execution_count": 18,
   "metadata": {},
   "outputs": [],
   "source": [
    "x_train_norm, x_test_prime_norm, y_train_norm, y_test_prime_norm = train_test_split(X_norm, y_norm, test_size=.40, random_state=42)"
   ]
  },
  {
   "cell_type": "code",
   "execution_count": 19,
   "metadata": {},
   "outputs": [],
   "source": [
    "x_validate_norm, x_test_norm, y_validate_norm, y_test_norm = train_test_split(x_test_prime_norm, y_test_prime_norm, test_size=.50, random_state=42)"
   ]
  },
  {
   "cell_type": "code",
   "execution_count": 21,
   "metadata": {},
   "outputs": [
    {
     "name": "stdout",
     "output_type": "stream",
     "text": [
      "13850 4617 4617\n"
     ]
    }
   ],
   "source": [
    "print(len(x_train_norm), len(x_validate_norm), len(x_test_norm))"
   ]
  },
  {
   "cell_type": "markdown",
   "metadata": {},
   "source": [
    "### Code to split 80/10/10"
   ]
  },
  {
   "cell_type": "markdown",
   "metadata": {},
   "source": [
    "Raw Data"
   ]
  },
  {
   "cell_type": "code",
   "execution_count": 23,
   "metadata": {},
   "outputs": [],
   "source": [
    "x_train2, x_test_prime2, y_train2, y_test_prime2 = train_test_split(X, y, test_size=.20, random_state=42)"
   ]
  },
  {
   "cell_type": "code",
   "execution_count": 24,
   "metadata": {},
   "outputs": [],
   "source": [
    "x_validate2, x_test2, y_validate2, y_test2 = train_test_split(x_test_prime2, y_test_prime2, test_size=.50, random_state=42)"
   ]
  },
  {
   "cell_type": "code",
   "execution_count": 25,
   "metadata": {},
   "outputs": [
    {
     "name": "stdout",
     "output_type": "stream",
     "text": [
      "18467 2308 2309\n"
     ]
    }
   ],
   "source": [
    "print(len(x_train2), len(x_validate2), len(x_test2))"
   ]
  },
  {
   "cell_type": "markdown",
   "metadata": {},
   "source": [
    "Decimal Scaled Data"
   ]
  },
  {
   "cell_type": "code",
   "execution_count": 26,
   "metadata": {},
   "outputs": [],
   "source": [
    "x_train2_norm, x_test_prime2_norm, y_train2_norm, y_test_prime2_norm = train_test_split(X_norm, y_norm, test_size=.20, random_state=42)"
   ]
  },
  {
   "cell_type": "code",
   "execution_count": 27,
   "metadata": {},
   "outputs": [],
   "source": [
    "x_validate2_norm, x_test2_norm, y_validate2_norm, y_test2_norm = train_test_split(x_test_prime2_norm, y_test_prime2_norm, test_size=.50, random_state=42)"
   ]
  },
  {
   "cell_type": "code",
   "execution_count": 28,
   "metadata": {},
   "outputs": [
    {
     "name": "stdout",
     "output_type": "stream",
     "text": [
      "18467 2308 2309\n"
     ]
    }
   ],
   "source": [
    "print(len(x_train2_norm), len(x_validate2_norm), len(x_test2_norm))"
   ]
  },
  {
   "cell_type": "markdown",
   "metadata": {},
   "source": [
    "Normalized Data (on github), could use decimal and another form of normalizing to try ang get a higher accuracy. Could also use another model other than decison tree. "
   ]
  },
  {
   "cell_type": "markdown",
   "metadata": {},
   "source": [
    "### Creating decision tree model"
   ]
  },
  {
   "cell_type": "code",
   "execution_count": 29,
   "metadata": {},
   "outputs": [],
   "source": [
    "from sklearn import tree"
   ]
  },
  {
   "cell_type": "code",
   "execution_count": 30,
   "metadata": {},
   "outputs": [],
   "source": [
    "treemodel = tree.DecisionTreeClassifier()"
   ]
  },
  {
   "cell_type": "code",
   "execution_count": 31,
   "metadata": {},
   "outputs": [],
   "source": [
    "treemodel = treemodel.fit(x_train,y_train)"
   ]
  },
  {
   "cell_type": "code",
   "execution_count": 32,
   "metadata": {},
   "outputs": [],
   "source": [
    "y_validate_pred = treemodel.predict(x_validate)"
   ]
  },
  {
   "cell_type": "code",
   "execution_count": 57,
   "metadata": {},
   "outputs": [],
   "source": [
    "treemodel2 = treemodel.fit(x_train2,y_train2)"
   ]
  },
  {
   "cell_type": "code",
   "execution_count": 58,
   "metadata": {},
   "outputs": [],
   "source": [
    "y_validate_pred2 = treemodel.predict(x_validate2)"
   ]
  },
  {
   "cell_type": "code",
   "execution_count": 34,
   "metadata": {},
   "outputs": [],
   "source": [
    "treemodel3 = treemodel.fit(x_train_norm, y_train_norm)"
   ]
  },
  {
   "cell_type": "code",
   "execution_count": 37,
   "metadata": {},
   "outputs": [],
   "source": [
    "y_validate_pred3 = treemodel.predict(x_validate_norm)"
   ]
  },
  {
   "cell_type": "code",
   "execution_count": 39,
   "metadata": {},
   "outputs": [],
   "source": [
    "treemodel4 = treemodel.fit(x_train2_norm, y_train2_norm)"
   ]
  },
  {
   "cell_type": "code",
   "execution_count": 40,
   "metadata": {},
   "outputs": [],
   "source": [
    "y_validate_pred4 = treemodel.predict(x_validate2_norm)"
   ]
  },
  {
   "cell_type": "code",
   "execution_count": 41,
   "metadata": {},
   "outputs": [],
   "source": [
    "from sklearn.datasets import load_iris\n",
    "from sklearn import tree\n",
    "A, b = load_iris(return_X_y=True)\n",
    "tree2 = tree.DecisionTreeClassifier()\n",
    "tree2 = treemodel.fit(A, b)"
   ]
  },
  {
   "cell_type": "code",
   "execution_count": 48,
   "metadata": {},
   "outputs": [
    {
     "data": {
      "image/png": "[encoded data removed]",
      "text/plain": [
       "<Figure size 1080x864 with 1 Axes>"
      ]
     },
     "metadata": {
      "needs_background": "light"
     },
     "output_type": "display_data"
    }
   ],
   "source": [
    "fig = plt.figure(figsize=(15,12))\n",
    "tree.plot_tree(treemodel)\n",
    "plt.savefig('DecisionTree1.png')"
   ]
  },
  {
   "cell_type": "markdown",
   "metadata": {},
   "source": [
    "## **Measuring Performance**"
   ]
  },
  {
   "cell_type": "code",
   "execution_count": 50,
   "metadata": {},
   "outputs": [],
   "source": [
    "from sklearn import metrics"
   ]
  },
  {
   "cell_type": "code",
   "execution_count": 51,
   "metadata": {},
   "outputs": [],
   "source": [
    "accuracy = metrics.accuracy_score(y_validate,y_validate_pred)\n",
    "precision = metrics.precision_score(y_validate,y_validate_pred)\n",
    "sensitivity = metrics.recall_score(y_validate,y_validate_pred)\n",
    "f_measure = metrics.f1_score(y_validate,y_validate_pred)"
   ]
  },
  {
   "cell_type": "code",
   "execution_count": 63,
   "metadata": {},
   "outputs": [
    {
     "name": "stdout",
     "output_type": "stream",
     "text": [
      "Metrics for 60/20/20 split are: \n",
      " accuracy:0.6159844054580896, precision:0.7098214285714286, \n",
      " sensitivity:0.6577042399172699, and F measure:0.6827697262479872\n"
     ]
    }
   ],
   "source": [
    "print(f\"Metrics for 60/20/20 split are: \\n accuracy:{accuracy}, precision:{precision}, \\n sensitivity:{sensitivity}, and F measure:{f_measure}\")"
   ]
  },
  {
   "cell_type": "code",
   "execution_count": 59,
   "metadata": {},
   "outputs": [],
   "source": [
    "accuracy2 = metrics.accuracy_score(y_validate2,y_validate_pred2)\n",
    "precision2 = metrics.precision_score(y_validate2,y_validate_pred2)\n",
    "sensitivity2 = metrics.recall_score(y_validate2,y_validate_pred2)\n",
    "f_measure2 = metrics.f1_score(y_validate2,y_validate_pred2)"
   ]
  },
  {
   "cell_type": "code",
   "execution_count": 61,
   "metadata": {},
   "outputs": [
    {
     "name": "stdout",
     "output_type": "stream",
     "text": [
      "Metrics for 80/10/10 split are:\n",
      " accuracy:0.6442807625649913, precision:0.7373371924746743, \n",
      " sensitivity:0.6899119837508463, and F measure:0.7128366561734871\n"
     ]
    }
   ],
   "source": [
    "print(f\"Metrics for 80/10/10 split are:\\n accuracy:{accuracy2}, precision:{precision2}, \\n sensitivity:{sensitivity2}, and F measure:{f_measure2}\")"
   ]
  },
  {
   "cell_type": "code",
   "execution_count": 64,
   "metadata": {},
   "outputs": [],
   "source": [
    "accuracy3 = metrics.accuracy_score(y_validate_norm,y_validate_pred3)\n",
    "precision3 = metrics.precision_score(y_validate_norm,y_validate_pred3)\n",
    "sensitivity3 = metrics.recall_score(y_validate_norm,y_validate_pred3)\n",
    "f_measure3 = metrics.f1_score(y_validate_norm,y_validate_pred3)"
   ]
  },
  {
   "cell_type": "code",
   "execution_count": 66,
   "metadata": {},
   "outputs": [
    {
     "name": "stdout",
     "output_type": "stream",
     "text": [
      "Metrics for Normalized 60/20/20 split are:\n",
      " accuracy:0.6164175871778211, precision:0.7112939416604338, \n",
      " sensitivity:0.655635987590486, and F measure:0.6823318385650224\n"
     ]
    }
   ],
   "source": [
    "print(f\"Metrics for Normalized 60/20/20 split are:\\n accuracy:{accuracy3}, precision:{precision3}, \\n sensitivity:{sensitivity3}, and F measure:{f_measure3}\")"
   ]
  },
  {
   "cell_type": "code",
   "execution_count": 65,
   "metadata": {},
   "outputs": [],
   "source": [
    "accuracy4 = metrics.accuracy_score(y_validate2_norm,y_validate_pred4)\n",
    "precision4 = metrics.precision_score(y_validate2_norm,y_validate_pred4)\n",
    "sensitivity4 = metrics.recall_score(y_validate2_norm,y_validate_pred4)\n",
    "f_measure4 = metrics.f1_score(y_validate2_norm,y_validate_pred4)"
   ]
  },
  {
   "cell_type": "code",
   "execution_count": 67,
   "metadata": {},
   "outputs": [
    {
     "name": "stdout",
     "output_type": "stream",
     "text": [
      "Metrics for Normalized 80/10/10 split are:\n",
      " accuracy:0.6473136915077989, precision:0.7396963123644251, \n",
      " sensitivity:0.6926201760324983, and F measure:0.7153846153846153\n"
     ]
    }
   ],
   "source": [
    "print(f\"Metrics for Normalized 80/10/10 split are:\\n accuracy:{accuracy4}, precision:{precision4}, \\n sensitivity:{sensitivity4}, and F measure:{f_measure4}\")"
   ]
  },
  {
   "cell_type": "code",
   "execution_count": null,
   "metadata": {},
   "outputs": [],
   "source": []
  }
 ],
 "metadata": {
  "kernelspec": {
   "display_name": "Python 3",
   "language": "python",
   "name": "python3"
  },
  "language_info": {
   "codemirror_mode": {
    "name": "ipython",
    "version": 3
   },
   "file_extension": ".py",
   "mimetype": "text/x-python",
   "name": "python",
   "nbconvert_exporter": "python",
   "pygments_lexer": "ipython3",
   "version": "3.8.5"
  }
 },
 "nbformat": 4,
 "nbformat_minor": 4
}
