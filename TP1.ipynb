{
 "cells": [
  {
   "cell_type": "markdown",
   "metadata": {},
   "source": [
    "# DS160 Team Project\n",
    "\n",
    "**Authors:** Kerry Effinger and Katie Zopff  \n",
    "**Version:** 1.0  \n",
    "**Semester:** Spring 2021"
   ]
  },
  {
   "cell_type": "markdown",
   "metadata": {},
   "source": [
    "### Exploratory Analysis"
   ]
  },
  {
   "cell_type": "code",
   "execution_count": 1,
   "metadata": {},
   "outputs": [],
   "source": [
    "import numpy as np\n",
    "import pandas as pd\n",
    "import matplotlib.pyplot as plt\n",
    "import seaborn as sns"
   ]
  },
  {
   "cell_type": "code",
   "execution_count": 2,
   "metadata": {},
   "outputs": [],
   "source": [
    "df = pd.read_csv('Training_set_intermediate.csv')"
   ]
  },
  {
   "cell_type": "code",
   "execution_count": 7,
   "metadata": {},
   "outputs": [
    {
     "data": {
      "text/html": [
       "<div>\n",
       "<style scoped>\n",
       "    .dataframe tbody tr th:only-of-type {\n",
       "        vertical-align: middle;\n",
       "    }\n",
       "\n",
       "    .dataframe tbody tr th {\n",
       "        vertical-align: top;\n",
       "    }\n",
       "\n",
       "    .dataframe thead th {\n",
       "        text-align: right;\n",
       "    }\n",
       "</style>\n",
       "<table border=\"1\" class=\"dataframe\">\n",
       "  <thead>\n",
       "    <tr style=\"text-align: right;\">\n",
       "      <th></th>\n",
       "      <th>ID_Patient_Care_Situation</th>\n",
       "      <th>Diagnosed_Condition</th>\n",
       "      <th>Patient_ID</th>\n",
       "      <th>Treated_with_drugs</th>\n",
       "      <th>Patient_Age</th>\n",
       "      <th>Patient_Body_Mass_Index</th>\n",
       "      <th>Patient_Smoker</th>\n",
       "      <th>Patient_Rural_Urban</th>\n",
       "      <th>Patient_mental_condition</th>\n",
       "      <th>A</th>\n",
       "      <th>B</th>\n",
       "      <th>C</th>\n",
       "      <th>D</th>\n",
       "      <th>E</th>\n",
       "      <th>F</th>\n",
       "      <th>Z</th>\n",
       "      <th>Number_of_prev_cond</th>\n",
       "      <th>Survived_1_year</th>\n",
       "    </tr>\n",
       "  </thead>\n",
       "  <tbody>\n",
       "    <tr>\n",
       "      <th>0</th>\n",
       "      <td>22374</td>\n",
       "      <td>8</td>\n",
       "      <td>3333</td>\n",
       "      <td>DX6</td>\n",
       "      <td>56</td>\n",
       "      <td>18.479385</td>\n",
       "      <td>YES</td>\n",
       "      <td>URBAN</td>\n",
       "      <td>Stable</td>\n",
       "      <td>1.0</td>\n",
       "      <td>0.0</td>\n",
       "      <td>0.0</td>\n",
       "      <td>0.0</td>\n",
       "      <td>1.0</td>\n",
       "      <td>0.0</td>\n",
       "      <td>0.0</td>\n",
       "      <td>2.0</td>\n",
       "      <td>0</td>\n",
       "    </tr>\n",
       "    <tr>\n",
       "      <th>1</th>\n",
       "      <td>18164</td>\n",
       "      <td>5</td>\n",
       "      <td>5740</td>\n",
       "      <td>DX2</td>\n",
       "      <td>36</td>\n",
       "      <td>22.945566</td>\n",
       "      <td>YES</td>\n",
       "      <td>RURAL</td>\n",
       "      <td>Stable</td>\n",
       "      <td>1.0</td>\n",
       "      <td>0.0</td>\n",
       "      <td>0.0</td>\n",
       "      <td>0.0</td>\n",
       "      <td>0.0</td>\n",
       "      <td>0.0</td>\n",
       "      <td>0.0</td>\n",
       "      <td>1.0</td>\n",
       "      <td>1</td>\n",
       "    </tr>\n",
       "    <tr>\n",
       "      <th>2</th>\n",
       "      <td>6283</td>\n",
       "      <td>23</td>\n",
       "      <td>10446</td>\n",
       "      <td>DX6</td>\n",
       "      <td>48</td>\n",
       "      <td>27.510027</td>\n",
       "      <td>YES</td>\n",
       "      <td>RURAL</td>\n",
       "      <td>Stable</td>\n",
       "      <td>1.0</td>\n",
       "      <td>0.0</td>\n",
       "      <td>0.0</td>\n",
       "      <td>0.0</td>\n",
       "      <td>0.0</td>\n",
       "      <td>0.0</td>\n",
       "      <td>0.0</td>\n",
       "      <td>1.0</td>\n",
       "      <td>0</td>\n",
       "    </tr>\n",
       "    <tr>\n",
       "      <th>3</th>\n",
       "      <td>5339</td>\n",
       "      <td>51</td>\n",
       "      <td>12011</td>\n",
       "      <td>DX1</td>\n",
       "      <td>5</td>\n",
       "      <td>19.130976</td>\n",
       "      <td>NO</td>\n",
       "      <td>URBAN</td>\n",
       "      <td>Stable</td>\n",
       "      <td>1.0</td>\n",
       "      <td>0.0</td>\n",
       "      <td>0.0</td>\n",
       "      <td>0.0</td>\n",
       "      <td>0.0</td>\n",
       "      <td>0.0</td>\n",
       "      <td>0.0</td>\n",
       "      <td>1.0</td>\n",
       "      <td>1</td>\n",
       "    </tr>\n",
       "    <tr>\n",
       "      <th>4</th>\n",
       "      <td>33012</td>\n",
       "      <td>0</td>\n",
       "      <td>12513</td>\n",
       "      <td>NaN</td>\n",
       "      <td>128</td>\n",
       "      <td>1.348400</td>\n",
       "      <td>Cannot say</td>\n",
       "      <td>RURAL</td>\n",
       "      <td>Stable</td>\n",
       "      <td>0.0</td>\n",
       "      <td>0.0</td>\n",
       "      <td>0.0</td>\n",
       "      <td>0.0</td>\n",
       "      <td>0.0</td>\n",
       "      <td>0.0</td>\n",
       "      <td>1.0</td>\n",
       "      <td>1.0</td>\n",
       "      <td>1</td>\n",
       "    </tr>\n",
       "    <tr>\n",
       "      <th>...</th>\n",
       "      <td>...</td>\n",
       "      <td>...</td>\n",
       "      <td>...</td>\n",
       "      <td>...</td>\n",
       "      <td>...</td>\n",
       "      <td>...</td>\n",
       "      <td>...</td>\n",
       "      <td>...</td>\n",
       "      <td>...</td>\n",
       "      <td>...</td>\n",
       "      <td>...</td>\n",
       "      <td>...</td>\n",
       "      <td>...</td>\n",
       "      <td>...</td>\n",
       "      <td>...</td>\n",
       "      <td>...</td>\n",
       "      <td>...</td>\n",
       "      <td>...</td>\n",
       "    </tr>\n",
       "    <tr>\n",
       "      <th>23092</th>\n",
       "      <td>15613</td>\n",
       "      <td>3</td>\n",
       "      <td>1548</td>\n",
       "      <td>DX2 DX4</td>\n",
       "      <td>14</td>\n",
       "      <td>18.643448</td>\n",
       "      <td>NO</td>\n",
       "      <td>RURAL</td>\n",
       "      <td>Stable</td>\n",
       "      <td>1.0</td>\n",
       "      <td>1.0</td>\n",
       "      <td>0.0</td>\n",
       "      <td>1.0</td>\n",
       "      <td>1.0</td>\n",
       "      <td>1.0</td>\n",
       "      <td>0.0</td>\n",
       "      <td>5.0</td>\n",
       "      <td>0</td>\n",
       "    </tr>\n",
       "    <tr>\n",
       "      <th>23093</th>\n",
       "      <td>15503</td>\n",
       "      <td>41</td>\n",
       "      <td>2769</td>\n",
       "      <td>DX6</td>\n",
       "      <td>55</td>\n",
       "      <td>23.684585</td>\n",
       "      <td>NO</td>\n",
       "      <td>RURAL</td>\n",
       "      <td>Stable</td>\n",
       "      <td>1.0</td>\n",
       "      <td>0.0</td>\n",
       "      <td>0.0</td>\n",
       "      <td>0.0</td>\n",
       "      <td>0.0</td>\n",
       "      <td>0.0</td>\n",
       "      <td>0.0</td>\n",
       "      <td>1.0</td>\n",
       "      <td>1</td>\n",
       "    </tr>\n",
       "    <tr>\n",
       "      <th>23094</th>\n",
       "      <td>2167</td>\n",
       "      <td>24</td>\n",
       "      <td>7671</td>\n",
       "      <td>DX6</td>\n",
       "      <td>63</td>\n",
       "      <td>27.500039</td>\n",
       "      <td>YES</td>\n",
       "      <td>RURAL</td>\n",
       "      <td>Stable</td>\n",
       "      <td>1.0</td>\n",
       "      <td>0.0</td>\n",
       "      <td>0.0</td>\n",
       "      <td>0.0</td>\n",
       "      <td>0.0</td>\n",
       "      <td>0.0</td>\n",
       "      <td>0.0</td>\n",
       "      <td>1.0</td>\n",
       "      <td>0</td>\n",
       "    </tr>\n",
       "    <tr>\n",
       "      <th>23095</th>\n",
       "      <td>31646</td>\n",
       "      <td>11</td>\n",
       "      <td>5764</td>\n",
       "      <td>DX3</td>\n",
       "      <td>25</td>\n",
       "      <td>23.719125</td>\n",
       "      <td>YES</td>\n",
       "      <td>RURAL</td>\n",
       "      <td>Stable</td>\n",
       "      <td>1.0</td>\n",
       "      <td>0.0</td>\n",
       "      <td>0.0</td>\n",
       "      <td>0.0</td>\n",
       "      <td>1.0</td>\n",
       "      <td>0.0</td>\n",
       "      <td>0.0</td>\n",
       "      <td>2.0</td>\n",
       "      <td>1</td>\n",
       "    </tr>\n",
       "    <tr>\n",
       "      <th>23096</th>\n",
       "      <td>3947</td>\n",
       "      <td>21</td>\n",
       "      <td>6266</td>\n",
       "      <td>DX6</td>\n",
       "      <td>50</td>\n",
       "      <td>18.391156</td>\n",
       "      <td>YES</td>\n",
       "      <td>RURAL</td>\n",
       "      <td>Stable</td>\n",
       "      <td>1.0</td>\n",
       "      <td>0.0</td>\n",
       "      <td>1.0</td>\n",
       "      <td>1.0</td>\n",
       "      <td>1.0</td>\n",
       "      <td>0.0</td>\n",
       "      <td>0.0</td>\n",
       "      <td>4.0</td>\n",
       "      <td>0</td>\n",
       "    </tr>\n",
       "  </tbody>\n",
       "</table>\n",
       "<p>23097 rows × 18 columns</p>\n",
       "</div>"
      ],
      "text/plain": [
       "       ID_Patient_Care_Situation  Diagnosed_Condition  Patient_ID  \\\n",
       "0                          22374                    8        3333   \n",
       "1                          18164                    5        5740   \n",
       "2                           6283                   23       10446   \n",
       "3                           5339                   51       12011   \n",
       "4                          33012                    0       12513   \n",
       "...                          ...                  ...         ...   \n",
       "23092                      15613                    3        1548   \n",
       "23093                      15503                   41        2769   \n",
       "23094                       2167                   24        7671   \n",
       "23095                      31646                   11        5764   \n",
       "23096                       3947                   21        6266   \n",
       "\n",
       "      Treated_with_drugs  Patient_Age  Patient_Body_Mass_Index Patient_Smoker  \\\n",
       "0                    DX6           56                18.479385            YES   \n",
       "1                   DX2            36                22.945566            YES   \n",
       "2                    DX6           48                27.510027            YES   \n",
       "3                   DX1             5                19.130976             NO   \n",
       "4                    NaN          128                 1.348400     Cannot say   \n",
       "...                  ...          ...                      ...            ...   \n",
       "23092           DX2 DX4            14                18.643448             NO   \n",
       "23093                DX6           55                23.684585             NO   \n",
       "23094                DX6           63                27.500039            YES   \n",
       "23095               DX3            25                23.719125            YES   \n",
       "23096                DX6           50                18.391156            YES   \n",
       "\n",
       "      Patient_Rural_Urban Patient_mental_condition    A    B    C    D    E  \\\n",
       "0                   URBAN                   Stable  1.0  0.0  0.0  0.0  1.0   \n",
       "1                   RURAL                   Stable  1.0  0.0  0.0  0.0  0.0   \n",
       "2                   RURAL                   Stable  1.0  0.0  0.0  0.0  0.0   \n",
       "3                   URBAN                   Stable  1.0  0.0  0.0  0.0  0.0   \n",
       "4                   RURAL                   Stable  0.0  0.0  0.0  0.0  0.0   \n",
       "...                   ...                      ...  ...  ...  ...  ...  ...   \n",
       "23092               RURAL                   Stable  1.0  1.0  0.0  1.0  1.0   \n",
       "23093               RURAL                   Stable  1.0  0.0  0.0  0.0  0.0   \n",
       "23094               RURAL                   Stable  1.0  0.0  0.0  0.0  0.0   \n",
       "23095               RURAL                   Stable  1.0  0.0  0.0  0.0  1.0   \n",
       "23096               RURAL                   Stable  1.0  0.0  1.0  1.0  1.0   \n",
       "\n",
       "         F    Z  Number_of_prev_cond  Survived_1_year  \n",
       "0      0.0  0.0                  2.0                0  \n",
       "1      0.0  0.0                  1.0                1  \n",
       "2      0.0  0.0                  1.0                0  \n",
       "3      0.0  0.0                  1.0                1  \n",
       "4      0.0  1.0                  1.0                1  \n",
       "...    ...  ...                  ...              ...  \n",
       "23092  1.0  0.0                  5.0                0  \n",
       "23093  0.0  0.0                  1.0                1  \n",
       "23094  0.0  0.0                  1.0                0  \n",
       "23095  0.0  0.0                  2.0                1  \n",
       "23096  0.0  0.0                  4.0                0  \n",
       "\n",
       "[23097 rows x 18 columns]"
      ]
     },
     "execution_count": 7,
     "metadata": {},
     "output_type": "execute_result"
    }
   ],
   "source": [
    "df"
   ]
  },
  {
   "cell_type": "markdown",
   "metadata": {},
   "source": [
    "Filling in NaN values in conditions and dropping all other NaN values in the dataset:"
   ]
  },
  {
   "cell_type": "code",
   "execution_count": 8,
   "metadata": {},
   "outputs": [],
   "source": [
    "df['Number_of_prev_cond'] = df['Number_of_prev_cond'].fillna(1.0)\n",
    "df['A'] = df['A'].fillna(1.0)\n",
    "df['B'] = df['B'].fillna(0.0)\n",
    "df['C'] = df['C'].fillna(0.0)\n",
    "df['D'] = df['D'].fillna(0.0)\n",
    "df['E'] = df['E'].fillna(0.0)\n",
    "df['F'] = df['F'].fillna(0.0)\n",
    "df['Z'] = df['Z'].fillna(0.0)"
   ]
  },
  {
   "cell_type": "code",
   "execution_count": 11,
   "metadata": {},
   "outputs": [],
   "source": [
    "df = df.dropna()"
   ]
  },
  {
   "cell_type": "code",
   "execution_count": 29,
   "metadata": {},
   "outputs": [],
   "source": [
    "df = df.drop(columns=\"Z\")"
   ]
  },
  {
   "cell_type": "code",
   "execution_count": 30,
   "metadata": {},
   "outputs": [
    {
     "data": {
      "text/html": [
       "<div>\n",
       "<style scoped>\n",
       "    .dataframe tbody tr th:only-of-type {\n",
       "        vertical-align: middle;\n",
       "    }\n",
       "\n",
       "    .dataframe tbody tr th {\n",
       "        vertical-align: top;\n",
       "    }\n",
       "\n",
       "    .dataframe thead th {\n",
       "        text-align: right;\n",
       "    }\n",
       "</style>\n",
       "<table border=\"1\" class=\"dataframe\">\n",
       "  <thead>\n",
       "    <tr style=\"text-align: right;\">\n",
       "      <th></th>\n",
       "      <th>ID_Patient_Care_Situation</th>\n",
       "      <th>Diagnosed_Condition</th>\n",
       "      <th>Patient_ID</th>\n",
       "      <th>Patient_Age</th>\n",
       "      <th>Patient_Body_Mass_Index</th>\n",
       "      <th>A</th>\n",
       "      <th>B</th>\n",
       "      <th>C</th>\n",
       "      <th>D</th>\n",
       "      <th>E</th>\n",
       "      <th>F</th>\n",
       "      <th>Number_of_prev_cond</th>\n",
       "      <th>Survived_1_year</th>\n",
       "    </tr>\n",
       "  </thead>\n",
       "  <tbody>\n",
       "    <tr>\n",
       "      <th>count</th>\n",
       "      <td>23084.000000</td>\n",
       "      <td>23084.000000</td>\n",
       "      <td>23084.000000</td>\n",
       "      <td>23084.000000</td>\n",
       "      <td>23084.000000</td>\n",
       "      <td>23084.000000</td>\n",
       "      <td>23084.000000</td>\n",
       "      <td>23084.000000</td>\n",
       "      <td>23084.000000</td>\n",
       "      <td>23084.000000</td>\n",
       "      <td>23084.000000</td>\n",
       "      <td>23084.000000</td>\n",
       "      <td>23084.000000</td>\n",
       "    </tr>\n",
       "    <tr>\n",
       "      <th>mean</th>\n",
       "      <td>16536.441518</td>\n",
       "      <td>26.428002</td>\n",
       "      <td>6257.762693</td>\n",
       "      <td>33.156862</td>\n",
       "      <td>23.467172</td>\n",
       "      <td>0.903873</td>\n",
       "      <td>0.129137</td>\n",
       "      <td>0.175273</td>\n",
       "      <td>0.079189</td>\n",
       "      <td>0.372422</td>\n",
       "      <td>0.050858</td>\n",
       "      <td>1.710752</td>\n",
       "      <td>0.632040</td>\n",
       "    </tr>\n",
       "    <tr>\n",
       "      <th>std</th>\n",
       "      <td>9526.936580</td>\n",
       "      <td>15.022018</td>\n",
       "      <td>3593.944948</td>\n",
       "      <td>19.425696</td>\n",
       "      <td>3.772969</td>\n",
       "      <td>0.294772</td>\n",
       "      <td>0.335359</td>\n",
       "      <td>0.380209</td>\n",
       "      <td>0.270039</td>\n",
       "      <td>0.483461</td>\n",
       "      <td>0.219712</td>\n",
       "      <td>0.768248</td>\n",
       "      <td>0.482261</td>\n",
       "    </tr>\n",
       "    <tr>\n",
       "      <th>min</th>\n",
       "      <td>2.000000</td>\n",
       "      <td>1.000000</td>\n",
       "      <td>1.000000</td>\n",
       "      <td>0.000000</td>\n",
       "      <td>17.000336</td>\n",
       "      <td>0.000000</td>\n",
       "      <td>0.000000</td>\n",
       "      <td>0.000000</td>\n",
       "      <td>0.000000</td>\n",
       "      <td>0.000000</td>\n",
       "      <td>0.000000</td>\n",
       "      <td>1.000000</td>\n",
       "      <td>0.000000</td>\n",
       "    </tr>\n",
       "    <tr>\n",
       "      <th>25%</th>\n",
       "      <td>8274.000000</td>\n",
       "      <td>13.000000</td>\n",
       "      <td>3179.000000</td>\n",
       "      <td>16.000000</td>\n",
       "      <td>20.209666</td>\n",
       "      <td>1.000000</td>\n",
       "      <td>0.000000</td>\n",
       "      <td>0.000000</td>\n",
       "      <td>0.000000</td>\n",
       "      <td>0.000000</td>\n",
       "      <td>0.000000</td>\n",
       "      <td>1.000000</td>\n",
       "      <td>0.000000</td>\n",
       "    </tr>\n",
       "    <tr>\n",
       "      <th>50%</th>\n",
       "      <td>16590.000000</td>\n",
       "      <td>26.000000</td>\n",
       "      <td>6238.000000</td>\n",
       "      <td>33.000000</td>\n",
       "      <td>23.387824</td>\n",
       "      <td>1.000000</td>\n",
       "      <td>0.000000</td>\n",
       "      <td>0.000000</td>\n",
       "      <td>0.000000</td>\n",
       "      <td>0.000000</td>\n",
       "      <td>0.000000</td>\n",
       "      <td>2.000000</td>\n",
       "      <td>1.000000</td>\n",
       "    </tr>\n",
       "    <tr>\n",
       "      <th>75%</th>\n",
       "      <td>24810.250000</td>\n",
       "      <td>39.000000</td>\n",
       "      <td>9358.250000</td>\n",
       "      <td>50.000000</td>\n",
       "      <td>26.788780</td>\n",
       "      <td>1.000000</td>\n",
       "      <td>0.000000</td>\n",
       "      <td>0.000000</td>\n",
       "      <td>0.000000</td>\n",
       "      <td>1.000000</td>\n",
       "      <td>0.000000</td>\n",
       "      <td>2.000000</td>\n",
       "      <td>1.000000</td>\n",
       "    </tr>\n",
       "    <tr>\n",
       "      <th>max</th>\n",
       "      <td>32982.000000</td>\n",
       "      <td>52.000000</td>\n",
       "      <td>12500.000000</td>\n",
       "      <td>66.000000</td>\n",
       "      <td>29.999579</td>\n",
       "      <td>1.000000</td>\n",
       "      <td>1.000000</td>\n",
       "      <td>1.000000</td>\n",
       "      <td>1.000000</td>\n",
       "      <td>1.000000</td>\n",
       "      <td>1.000000</td>\n",
       "      <td>5.000000</td>\n",
       "      <td>1.000000</td>\n",
       "    </tr>\n",
       "  </tbody>\n",
       "</table>\n",
       "</div>"
      ],
      "text/plain": [
       "       ID_Patient_Care_Situation  Diagnosed_Condition    Patient_ID  \\\n",
       "count               23084.000000         23084.000000  23084.000000   \n",
       "mean                16536.441518            26.428002   6257.762693   \n",
       "std                  9526.936580            15.022018   3593.944948   \n",
       "min                     2.000000             1.000000      1.000000   \n",
       "25%                  8274.000000            13.000000   3179.000000   \n",
       "50%                 16590.000000            26.000000   6238.000000   \n",
       "75%                 24810.250000            39.000000   9358.250000   \n",
       "max                 32982.000000            52.000000  12500.000000   \n",
       "\n",
       "        Patient_Age  Patient_Body_Mass_Index             A             B  \\\n",
       "count  23084.000000             23084.000000  23084.000000  23084.000000   \n",
       "mean      33.156862                23.467172      0.903873      0.129137   \n",
       "std       19.425696                 3.772969      0.294772      0.335359   \n",
       "min        0.000000                17.000336      0.000000      0.000000   \n",
       "25%       16.000000                20.209666      1.000000      0.000000   \n",
       "50%       33.000000                23.387824      1.000000      0.000000   \n",
       "75%       50.000000                26.788780      1.000000      0.000000   \n",
       "max       66.000000                29.999579      1.000000      1.000000   \n",
       "\n",
       "                  C             D             E             F  \\\n",
       "count  23084.000000  23084.000000  23084.000000  23084.000000   \n",
       "mean       0.175273      0.079189      0.372422      0.050858   \n",
       "std        0.380209      0.270039      0.483461      0.219712   \n",
       "min        0.000000      0.000000      0.000000      0.000000   \n",
       "25%        0.000000      0.000000      0.000000      0.000000   \n",
       "50%        0.000000      0.000000      0.000000      0.000000   \n",
       "75%        0.000000      0.000000      1.000000      0.000000   \n",
       "max        1.000000      1.000000      1.000000      1.000000   \n",
       "\n",
       "       Number_of_prev_cond  Survived_1_year  \n",
       "count         23084.000000     23084.000000  \n",
       "mean              1.710752         0.632040  \n",
       "std               0.768248         0.482261  \n",
       "min               1.000000         0.000000  \n",
       "25%               1.000000         0.000000  \n",
       "50%               2.000000         1.000000  \n",
       "75%               2.000000         1.000000  \n",
       "max               5.000000         1.000000  "
      ]
     },
     "execution_count": 30,
     "metadata": {},
     "output_type": "execute_result"
    }
   ],
   "source": [
    "df.describe()"
   ]
  },
  {
   "cell_type": "code",
   "execution_count": 31,
   "metadata": {},
   "outputs": [
    {
     "data": {
      "text/plain": [
       "ID_Patient_Care_Situation      int64\n",
       "Diagnosed_Condition            int64\n",
       "Patient_ID                     int64\n",
       "Treated_with_drugs            object\n",
       "Patient_Age                    int64\n",
       "Patient_Body_Mass_Index      float64\n",
       "Patient_Smoker                object\n",
       "Patient_Rural_Urban           object\n",
       "Patient_mental_condition      object\n",
       "A                            float64\n",
       "B                            float64\n",
       "C                            float64\n",
       "D                            float64\n",
       "E                            float64\n",
       "F                            float64\n",
       "Number_of_prev_cond          float64\n",
       "Survived_1_year                int64\n",
       "dtype: object"
      ]
     },
     "execution_count": 31,
     "metadata": {},
     "output_type": "execute_result"
    }
   ],
   "source": [
    "df.dtypes"
   ]
  },
  {
   "cell_type": "code",
   "execution_count": 32,
   "metadata": {},
   "outputs": [
    {
     "data": {
      "text/plain": [
       "DX6                     8606\n",
       "DX5                     1909\n",
       "DX2                     1904\n",
       "DX1                     1835\n",
       "DX3                     1830\n",
       "DX4                     1792\n",
       "DX1 DX2                  448\n",
       "DX3 DX4                  448\n",
       "DX1 DX3                  424\n",
       "DX4 DX5                  423\n",
       "DX2 DX4                  419\n",
       "DX1 DX4                  408\n",
       "DX3 DX5                  407\n",
       "DX1 DX5                  402\n",
       "DX2 DX5                  400\n",
       "DX2 DX3                  398\n",
       "DX1 DX2 DX5              103\n",
       "DX1 DX3 DX5              101\n",
       "DX1 DX2 DX4               99\n",
       "DX3 DX4 DX5               96\n",
       "DX1 DX2 DX3               95\n",
       "DX2 DX3 DX5               91\n",
       "DX1 DX3 DX4               90\n",
       "DX2 DX3 DX4               87\n",
       "DX2 DX4 DX5               84\n",
       "DX1 DX4 DX5               80\n",
       "DX1 DX3 DX4 DX5           24\n",
       "DX1 DX2 DX3 DX4           24\n",
       "DX2 DX3 DX4 DX5           22\n",
       "DX1 DX2 DX4 DX5           18\n",
       "DX1 DX2 DX3 DX5           14\n",
       "DX1 DX2 DX3 DX4 DX5        3\n",
       "Name: Treated_with_drugs, dtype: int64"
      ]
     },
     "execution_count": 32,
     "metadata": {},
     "output_type": "execute_result"
    }
   ],
   "source": [
    "drugs = df['Treated_with_drugs'].value_counts()\n",
    "drugs"
   ]
  },
  {
   "cell_type": "code",
   "execution_count": 33,
   "metadata": {},
   "outputs": [
    {
     "data": {
      "text/plain": [
       "NO     13246\n",
       "YES     9838\n",
       "Name: Patient_Smoker, dtype: int64"
      ]
     },
     "execution_count": 33,
     "metadata": {},
     "output_type": "execute_result"
    }
   ],
   "source": [
    "smoker = df['Patient_Smoker'].value_counts()\n",
    "smoker"
   ]
  },
  {
   "cell_type": "code",
   "execution_count": 34,
   "metadata": {},
   "outputs": [
    {
     "data": {
      "text/plain": [
       "RURAL    16121\n",
       "URBAN     6963\n",
       "Name: Patient_Rural_Urban, dtype: int64"
      ]
     },
     "execution_count": 34,
     "metadata": {},
     "output_type": "execute_result"
    }
   ],
   "source": [
    "rural_urban = df['Patient_Rural_Urban'].value_counts()\n",
    "rural_urban"
   ]
  },
  {
   "cell_type": "code",
   "execution_count": 35,
   "metadata": {},
   "outputs": [
    {
     "data": {
      "text/plain": [
       "Stable    23084\n",
       "Name: Patient_mental_condition, dtype: int64"
      ]
     },
     "execution_count": 35,
     "metadata": {},
     "output_type": "execute_result"
    }
   ],
   "source": [
    "mental = df['Patient_mental_condition'].value_counts()\n",
    "mental"
   ]
  },
  {
   "cell_type": "code",
   "execution_count": 36,
   "metadata": {},
   "outputs": [
    {
     "data": {
      "text/plain": [
       "1.0    20865\n",
       "0.0     2219\n",
       "Name: A, dtype: int64"
      ]
     },
     "execution_count": 36,
     "metadata": {},
     "output_type": "execute_result"
    }
   ],
   "source": [
    "A = df['A'].value_counts()\n",
    "A"
   ]
  },
  {
   "cell_type": "code",
   "execution_count": 37,
   "metadata": {},
   "outputs": [
    {
     "data": {
      "text/plain": [
       "0.0    20103\n",
       "1.0     2981\n",
       "Name: B, dtype: int64"
      ]
     },
     "execution_count": 37,
     "metadata": {},
     "output_type": "execute_result"
    }
   ],
   "source": [
    "B = df['B'].value_counts()\n",
    "B"
   ]
  },
  {
   "cell_type": "code",
   "execution_count": 38,
   "metadata": {},
   "outputs": [
    {
     "data": {
      "text/plain": [
       "0.0    19038\n",
       "1.0     4046\n",
       "Name: C, dtype: int64"
      ]
     },
     "execution_count": 38,
     "metadata": {},
     "output_type": "execute_result"
    }
   ],
   "source": [
    "C = df['C'].value_counts()\n",
    "C"
   ]
  },
  {
   "cell_type": "code",
   "execution_count": 39,
   "metadata": {},
   "outputs": [
    {
     "data": {
      "text/plain": [
       "0.0    21256\n",
       "1.0     1828\n",
       "Name: D, dtype: int64"
      ]
     },
     "execution_count": 39,
     "metadata": {},
     "output_type": "execute_result"
    }
   ],
   "source": [
    "D = df['D'].value_counts()\n",
    "D"
   ]
  },
  {
   "cell_type": "code",
   "execution_count": 40,
   "metadata": {},
   "outputs": [
    {
     "data": {
      "text/plain": [
       "0.0    14487\n",
       "1.0     8597\n",
       "Name: E, dtype: int64"
      ]
     },
     "execution_count": 40,
     "metadata": {},
     "output_type": "execute_result"
    }
   ],
   "source": [
    "E = df['E'].value_counts()\n",
    "E"
   ]
  },
  {
   "cell_type": "code",
   "execution_count": 41,
   "metadata": {},
   "outputs": [
    {
     "data": {
      "text/plain": [
       "0.0    21910\n",
       "1.0     1174\n",
       "Name: F, dtype: int64"
      ]
     },
     "execution_count": 41,
     "metadata": {},
     "output_type": "execute_result"
    }
   ],
   "source": [
    "F = df['F'].value_counts()\n",
    "F"
   ]
  },
  {
   "cell_type": "code",
   "execution_count": 43,
   "metadata": {},
   "outputs": [
    {
     "data": {
      "text/plain": [
       "1    14590\n",
       "0     8494\n",
       "Name: Survived_1_year, dtype: int64"
      ]
     },
     "execution_count": 43,
     "metadata": {},
     "output_type": "execute_result"
    }
   ],
   "source": [
    "survived = df['Survived_1_year'].value_counts()\n",
    "survived"
   ]
  },
  {
   "cell_type": "code",
   "execution_count": 44,
   "metadata": {},
   "outputs": [
    {
     "data": {
      "text/html": [
       "<div>\n",
       "<style scoped>\n",
       "    .dataframe tbody tr th:only-of-type {\n",
       "        vertical-align: middle;\n",
       "    }\n",
       "\n",
       "    .dataframe tbody tr th {\n",
       "        vertical-align: top;\n",
       "    }\n",
       "\n",
       "    .dataframe thead th {\n",
       "        text-align: right;\n",
       "    }\n",
       "</style>\n",
       "<table border=\"1\" class=\"dataframe\">\n",
       "  <thead>\n",
       "    <tr style=\"text-align: right;\">\n",
       "      <th></th>\n",
       "      <th>ID_Patient_Care_Situation</th>\n",
       "      <th>Diagnosed_Condition</th>\n",
       "      <th>Patient_ID</th>\n",
       "      <th>Patient_Age</th>\n",
       "      <th>Patient_Body_Mass_Index</th>\n",
       "      <th>A</th>\n",
       "      <th>B</th>\n",
       "      <th>C</th>\n",
       "      <th>D</th>\n",
       "      <th>E</th>\n",
       "      <th>F</th>\n",
       "      <th>Number_of_prev_cond</th>\n",
       "      <th>Survived_1_year</th>\n",
       "    </tr>\n",
       "  </thead>\n",
       "  <tbody>\n",
       "    <tr>\n",
       "      <th>ID_Patient_Care_Situation</th>\n",
       "      <td>1.000000</td>\n",
       "      <td>-0.005747</td>\n",
       "      <td>-0.001457</td>\n",
       "      <td>-0.004402</td>\n",
       "      <td>-0.001673</td>\n",
       "      <td>0.008101</td>\n",
       "      <td>0.004536</td>\n",
       "      <td>0.009882</td>\n",
       "      <td>-0.006648</td>\n",
       "      <td>-0.000293</td>\n",
       "      <td>0.007315</td>\n",
       "      <td>0.009550</td>\n",
       "      <td>-0.005432</td>\n",
       "    </tr>\n",
       "    <tr>\n",
       "      <th>Diagnosed_Condition</th>\n",
       "      <td>-0.005747</td>\n",
       "      <td>1.000000</td>\n",
       "      <td>0.010052</td>\n",
       "      <td>-0.004247</td>\n",
       "      <td>0.002631</td>\n",
       "      <td>0.002414</td>\n",
       "      <td>0.002684</td>\n",
       "      <td>-0.004094</td>\n",
       "      <td>-0.008484</td>\n",
       "      <td>0.005300</td>\n",
       "      <td>0.005087</td>\n",
       "      <td>0.001880</td>\n",
       "      <td>-0.003699</td>\n",
       "    </tr>\n",
       "    <tr>\n",
       "      <th>Patient_ID</th>\n",
       "      <td>-0.001457</td>\n",
       "      <td>0.010052</td>\n",
       "      <td>1.000000</td>\n",
       "      <td>0.009383</td>\n",
       "      <td>-0.017735</td>\n",
       "      <td>-0.001756</td>\n",
       "      <td>-0.012065</td>\n",
       "      <td>-0.006388</td>\n",
       "      <td>-0.004690</td>\n",
       "      <td>0.000348</td>\n",
       "      <td>0.007522</td>\n",
       "      <td>-0.008381</td>\n",
       "      <td>-0.004965</td>\n",
       "    </tr>\n",
       "    <tr>\n",
       "      <th>Patient_Age</th>\n",
       "      <td>-0.004402</td>\n",
       "      <td>-0.004247</td>\n",
       "      <td>0.009383</td>\n",
       "      <td>1.000000</td>\n",
       "      <td>0.009176</td>\n",
       "      <td>-0.019935</td>\n",
       "      <td>-0.010611</td>\n",
       "      <td>-0.009524</td>\n",
       "      <td>0.005370</td>\n",
       "      <td>0.000851</td>\n",
       "      <td>0.008108</td>\n",
       "      <td>-0.012252</td>\n",
       "      <td>-0.077525</td>\n",
       "    </tr>\n",
       "    <tr>\n",
       "      <th>Patient_Body_Mass_Index</th>\n",
       "      <td>-0.001673</td>\n",
       "      <td>0.002631</td>\n",
       "      <td>-0.017735</td>\n",
       "      <td>0.009176</td>\n",
       "      <td>1.000000</td>\n",
       "      <td>0.010557</td>\n",
       "      <td>-0.000404</td>\n",
       "      <td>-0.019742</td>\n",
       "      <td>-0.010305</td>\n",
       "      <td>-0.009015</td>\n",
       "      <td>-0.016955</td>\n",
       "      <td>-0.020041</td>\n",
       "      <td>-0.120521</td>\n",
       "    </tr>\n",
       "    <tr>\n",
       "      <th>A</th>\n",
       "      <td>0.008101</td>\n",
       "      <td>0.002414</td>\n",
       "      <td>-0.001756</td>\n",
       "      <td>-0.019935</td>\n",
       "      <td>0.010557</td>\n",
       "      <td>1.000000</td>\n",
       "      <td>-0.071190</td>\n",
       "      <td>-0.098596</td>\n",
       "      <td>-0.081789</td>\n",
       "      <td>-0.175887</td>\n",
       "      <td>-0.058962</td>\n",
       "      <td>0.147524</td>\n",
       "      <td>-0.042209</td>\n",
       "    </tr>\n",
       "    <tr>\n",
       "      <th>B</th>\n",
       "      <td>0.004536</td>\n",
       "      <td>0.002684</td>\n",
       "      <td>-0.012065</td>\n",
       "      <td>-0.010611</td>\n",
       "      <td>-0.000404</td>\n",
       "      <td>-0.071190</td>\n",
       "      <td>1.000000</td>\n",
       "      <td>-0.011038</td>\n",
       "      <td>0.004275</td>\n",
       "      <td>-0.000853</td>\n",
       "      <td>-0.010940</td>\n",
       "      <td>0.401584</td>\n",
       "      <td>-0.054406</td>\n",
       "    </tr>\n",
       "    <tr>\n",
       "      <th>C</th>\n",
       "      <td>0.009882</td>\n",
       "      <td>-0.004094</td>\n",
       "      <td>-0.006388</td>\n",
       "      <td>-0.009524</td>\n",
       "      <td>-0.019742</td>\n",
       "      <td>-0.098596</td>\n",
       "      <td>-0.011038</td>\n",
       "      <td>1.000000</td>\n",
       "      <td>0.015022</td>\n",
       "      <td>-0.005850</td>\n",
       "      <td>0.006861</td>\n",
       "      <td>0.455816</td>\n",
       "      <td>-0.039511</td>\n",
       "    </tr>\n",
       "    <tr>\n",
       "      <th>D</th>\n",
       "      <td>-0.006648</td>\n",
       "      <td>-0.008484</td>\n",
       "      <td>-0.004690</td>\n",
       "      <td>0.005370</td>\n",
       "      <td>-0.010305</td>\n",
       "      <td>-0.081789</td>\n",
       "      <td>0.004275</td>\n",
       "      <td>0.015022</td>\n",
       "      <td>1.000000</td>\n",
       "      <td>-0.000593</td>\n",
       "      <td>-0.005818</td>\n",
       "      <td>0.327382</td>\n",
       "      <td>-0.107571</td>\n",
       "    </tr>\n",
       "    <tr>\n",
       "      <th>E</th>\n",
       "      <td>-0.000293</td>\n",
       "      <td>0.005300</td>\n",
       "      <td>0.000348</td>\n",
       "      <td>0.000851</td>\n",
       "      <td>-0.009015</td>\n",
       "      <td>-0.175887</td>\n",
       "      <td>-0.000853</td>\n",
       "      <td>-0.005850</td>\n",
       "      <td>-0.000593</td>\n",
       "      <td>1.000000</td>\n",
       "      <td>0.004803</td>\n",
       "      <td>0.559714</td>\n",
       "      <td>0.008799</td>\n",
       "    </tr>\n",
       "    <tr>\n",
       "      <th>F</th>\n",
       "      <td>0.007315</td>\n",
       "      <td>0.005087</td>\n",
       "      <td>0.007522</td>\n",
       "      <td>0.008108</td>\n",
       "      <td>-0.016955</td>\n",
       "      <td>-0.058962</td>\n",
       "      <td>-0.010940</td>\n",
       "      <td>0.006861</td>\n",
       "      <td>-0.005818</td>\n",
       "      <td>0.004803</td>\n",
       "      <td>1.000000</td>\n",
       "      <td>0.262965</td>\n",
       "      <td>0.000403</td>\n",
       "    </tr>\n",
       "    <tr>\n",
       "      <th>Number_of_prev_cond</th>\n",
       "      <td>0.009550</td>\n",
       "      <td>0.001880</td>\n",
       "      <td>-0.008381</td>\n",
       "      <td>-0.012252</td>\n",
       "      <td>-0.020041</td>\n",
       "      <td>0.147524</td>\n",
       "      <td>0.401584</td>\n",
       "      <td>0.455816</td>\n",
       "      <td>0.327382</td>\n",
       "      <td>0.559714</td>\n",
       "      <td>0.262965</td>\n",
       "      <td>1.000000</td>\n",
       "      <td>-0.091658</td>\n",
       "    </tr>\n",
       "    <tr>\n",
       "      <th>Survived_1_year</th>\n",
       "      <td>-0.005432</td>\n",
       "      <td>-0.003699</td>\n",
       "      <td>-0.004965</td>\n",
       "      <td>-0.077525</td>\n",
       "      <td>-0.120521</td>\n",
       "      <td>-0.042209</td>\n",
       "      <td>-0.054406</td>\n",
       "      <td>-0.039511</td>\n",
       "      <td>-0.107571</td>\n",
       "      <td>0.008799</td>\n",
       "      <td>0.000403</td>\n",
       "      <td>-0.091658</td>\n",
       "      <td>1.000000</td>\n",
       "    </tr>\n",
       "  </tbody>\n",
       "</table>\n",
       "</div>"
      ],
      "text/plain": [
       "                           ID_Patient_Care_Situation  Diagnosed_Condition  \\\n",
       "ID_Patient_Care_Situation                   1.000000            -0.005747   \n",
       "Diagnosed_Condition                        -0.005747             1.000000   \n",
       "Patient_ID                                 -0.001457             0.010052   \n",
       "Patient_Age                                -0.004402            -0.004247   \n",
       "Patient_Body_Mass_Index                    -0.001673             0.002631   \n",
       "A                                           0.008101             0.002414   \n",
       "B                                           0.004536             0.002684   \n",
       "C                                           0.009882            -0.004094   \n",
       "D                                          -0.006648            -0.008484   \n",
       "E                                          -0.000293             0.005300   \n",
       "F                                           0.007315             0.005087   \n",
       "Number_of_prev_cond                         0.009550             0.001880   \n",
       "Survived_1_year                            -0.005432            -0.003699   \n",
       "\n",
       "                           Patient_ID  Patient_Age  Patient_Body_Mass_Index  \\\n",
       "ID_Patient_Care_Situation   -0.001457    -0.004402                -0.001673   \n",
       "Diagnosed_Condition          0.010052    -0.004247                 0.002631   \n",
       "Patient_ID                   1.000000     0.009383                -0.017735   \n",
       "Patient_Age                  0.009383     1.000000                 0.009176   \n",
       "Patient_Body_Mass_Index     -0.017735     0.009176                 1.000000   \n",
       "A                           -0.001756    -0.019935                 0.010557   \n",
       "B                           -0.012065    -0.010611                -0.000404   \n",
       "C                           -0.006388    -0.009524                -0.019742   \n",
       "D                           -0.004690     0.005370                -0.010305   \n",
       "E                            0.000348     0.000851                -0.009015   \n",
       "F                            0.007522     0.008108                -0.016955   \n",
       "Number_of_prev_cond         -0.008381    -0.012252                -0.020041   \n",
       "Survived_1_year             -0.004965    -0.077525                -0.120521   \n",
       "\n",
       "                                  A         B         C         D         E  \\\n",
       "ID_Patient_Care_Situation  0.008101  0.004536  0.009882 -0.006648 -0.000293   \n",
       "Diagnosed_Condition        0.002414  0.002684 -0.004094 -0.008484  0.005300   \n",
       "Patient_ID                -0.001756 -0.012065 -0.006388 -0.004690  0.000348   \n",
       "Patient_Age               -0.019935 -0.010611 -0.009524  0.005370  0.000851   \n",
       "Patient_Body_Mass_Index    0.010557 -0.000404 -0.019742 -0.010305 -0.009015   \n",
       "A                          1.000000 -0.071190 -0.098596 -0.081789 -0.175887   \n",
       "B                         -0.071190  1.000000 -0.011038  0.004275 -0.000853   \n",
       "C                         -0.098596 -0.011038  1.000000  0.015022 -0.005850   \n",
       "D                         -0.081789  0.004275  0.015022  1.000000 -0.000593   \n",
       "E                         -0.175887 -0.000853 -0.005850 -0.000593  1.000000   \n",
       "F                         -0.058962 -0.010940  0.006861 -0.005818  0.004803   \n",
       "Number_of_prev_cond        0.147524  0.401584  0.455816  0.327382  0.559714   \n",
       "Survived_1_year           -0.042209 -0.054406 -0.039511 -0.107571  0.008799   \n",
       "\n",
       "                                  F  Number_of_prev_cond  Survived_1_year  \n",
       "ID_Patient_Care_Situation  0.007315             0.009550        -0.005432  \n",
       "Diagnosed_Condition        0.005087             0.001880        -0.003699  \n",
       "Patient_ID                 0.007522            -0.008381        -0.004965  \n",
       "Patient_Age                0.008108            -0.012252        -0.077525  \n",
       "Patient_Body_Mass_Index   -0.016955            -0.020041        -0.120521  \n",
       "A                         -0.058962             0.147524        -0.042209  \n",
       "B                         -0.010940             0.401584        -0.054406  \n",
       "C                          0.006861             0.455816        -0.039511  \n",
       "D                         -0.005818             0.327382        -0.107571  \n",
       "E                          0.004803             0.559714         0.008799  \n",
       "F                          1.000000             0.262965         0.000403  \n",
       "Number_of_prev_cond        0.262965             1.000000        -0.091658  \n",
       "Survived_1_year            0.000403            -0.091658         1.000000  "
      ]
     },
     "execution_count": 44,
     "metadata": {},
     "output_type": "execute_result"
    }
   ],
   "source": [
    "df.corr()"
   ]
  },
  {
   "cell_type": "code",
   "execution_count": 45,
   "metadata": {},
   "outputs": [],
   "source": [
    "corr = df.corr()"
   ]
  },
  {
   "cell_type": "code",
   "execution_count": 46,
   "metadata": {},
   "outputs": [
    {
     "data": {
      "image/png": "[encoded data removed]",
      "text/plain": [
       "<Figure size 432x288 with 2 Axes>"
      ]
     },
     "metadata": {
      "needs_background": "light"
     },
     "output_type": "display_data"
    }
   ],
   "source": [
    "sns.heatmap(corr)\n",
    "plt.savefig('corr_heatmap.png')"
   ]
  },
  {
   "cell_type": "code",
   "execution_count": 96,
   "metadata": {},
   "outputs": [
    {
     "data": {
      "image/png": "[encoded data removed]",
      "text/plain": [
       "<Figure size 1080x1800 with 9 Axes>"
      ]
     },
     "metadata": {
      "needs_background": "light"
     },
     "output_type": "display_data"
    }
   ],
   "source": [
    "fig = plt.figure(figsize=(15,25))\n",
    "ax1 = fig.add_subplot(5,2,1)\n",
    "ax1 = smoker.sort_values().plot.barh()\n",
    "ax1.set_title('Smokers')\n",
    "ax2 = fig.add_subplot(5,2,2)\n",
    "ax2 = rural_urban.sort_values().plot.barh(color='red')\n",
    "ax2.set_title('Rural or Urban')\n",
    "ax3 = fig.add_subplot(5,2,3)\n",
    "ax3 = A.sort_values().plot.barh(color='purple')\n",
    "ax3.set_title('Condition A')\n",
    "ax4 = fig.add_subplot(5,2,4)\n",
    "ax4 = B.sort_values().plot.barh(color='green')\n",
    "ax4.set_title('Condition B')\n",
    "ax5 = fig.add_subplot(5,2,5)\n",
    "ax5 = C.sort_values().plot.barh(color='grey')\n",
    "ax5.set_title('Condition C')\n",
    "ax6 = fig.add_subplot(5,2,6)\n",
    "ax6 = D.sort_values().plot.barh()\n",
    "ax6.set_title('Condition D')\n",
    "ax7 = fig.add_subplot(5,2,7)\n",
    "ax7 = E.sort_values().plot.barh(color='red')\n",
    "ax7.set_title('Condition E')\n",
    "ax8 = fig.add_subplot(5,2,8)\n",
    "ax8 = F.sort_values().plot.barh(color='purple')\n",
    "ax8.set_title('Condition F')\n",
    "ax9 = fig.add_subplot(5,2,9)\n",
    "ax9 = survived.sort_values().plot.barh(color='green')\n",
    "ax9.set_title('Survived')\n",
    "plt.savefig('barcharts.png')"
   ]
  },
  {
   "cell_type": "code",
   "execution_count": 101,
   "metadata": {},
   "outputs": [
    {
     "data": {
      "image/png": "[encoded data removed]",
      "text/plain": [
       "<Figure size 1080x360 with 2 Axes>"
      ]
     },
     "metadata": {
      "needs_background": "light"
     },
     "output_type": "display_data"
    }
   ],
   "source": [
    "fig = plt.figure(figsize=(15,5))\n",
    "ax1 = fig.add_subplot(1,2,1)\n",
    "ax1.hist(df['Patient_Age'])\n",
    "ax1.set_title('Patient Age')\n",
    "ax2 = fig.add_subplot(1,2,2)\n",
    "ax2.hist(df['Patient_Body_Mass_Index'])\n",
    "ax2.set_title('Patient Body Mass Index')\n",
    "plt.savefig('densityplts.png')"
   ]
  },
  {
   "cell_type": "markdown",
   "metadata": {},
   "source": [
    "### Normalization: Decimal Scaling"
   ]
  },
  {
   "cell_type": "code",
   "execution_count": 69,
   "metadata": {},
   "outputs": [],
   "source": [
    "df_normalized = df"
   ]
  },
  {
   "cell_type": "code",
   "execution_count": 71,
   "metadata": {},
   "outputs": [],
   "source": [
    "df_normalized['Patient_Age'] = df_normalized['Patient_Age']/100\n",
    "df_normalized['Patient_Body_Mass_Index'] = df_normalized['Patient_Body_Mass_Index']/100"
   ]
  },
  {
   "cell_type": "code",
   "execution_count": 72,
   "metadata": {},
   "outputs": [
    {
     "data": {
      "text/html": [
       "<div>\n",
       "<style scoped>\n",
       "    .dataframe tbody tr th:only-of-type {\n",
       "        vertical-align: middle;\n",
       "    }\n",
       "\n",
       "    .dataframe tbody tr th {\n",
       "        vertical-align: top;\n",
       "    }\n",
       "\n",
       "    .dataframe thead th {\n",
       "        text-align: right;\n",
       "    }\n",
       "</style>\n",
       "<table border=\"1\" class=\"dataframe\">\n",
       "  <thead>\n",
       "    <tr style=\"text-align: right;\">\n",
       "      <th></th>\n",
       "      <th>ID_Patient_Care_Situation</th>\n",
       "      <th>Diagnosed_Condition</th>\n",
       "      <th>Patient_ID</th>\n",
       "      <th>Treated_with_drugs</th>\n",
       "      <th>Patient_Age</th>\n",
       "      <th>Patient_Body_Mass_Index</th>\n",
       "      <th>Patient_Smoker</th>\n",
       "      <th>Patient_Rural_Urban</th>\n",
       "      <th>Patient_mental_condition</th>\n",
       "      <th>A</th>\n",
       "      <th>B</th>\n",
       "      <th>C</th>\n",
       "      <th>D</th>\n",
       "      <th>E</th>\n",
       "      <th>F</th>\n",
       "      <th>Number_of_prev_cond</th>\n",
       "      <th>Survived_1_year</th>\n",
       "    </tr>\n",
       "  </thead>\n",
       "  <tbody>\n",
       "    <tr>\n",
       "      <th>0</th>\n",
       "      <td>22374</td>\n",
       "      <td>8</td>\n",
       "      <td>3333</td>\n",
       "      <td>DX6</td>\n",
       "      <td>0.56</td>\n",
       "      <td>0.184794</td>\n",
       "      <td>YES</td>\n",
       "      <td>URBAN</td>\n",
       "      <td>Stable</td>\n",
       "      <td>1.0</td>\n",
       "      <td>0.0</td>\n",
       "      <td>0.0</td>\n",
       "      <td>0.0</td>\n",
       "      <td>1.0</td>\n",
       "      <td>0.0</td>\n",
       "      <td>2.0</td>\n",
       "      <td>0</td>\n",
       "    </tr>\n",
       "    <tr>\n",
       "      <th>1</th>\n",
       "      <td>18164</td>\n",
       "      <td>5</td>\n",
       "      <td>5740</td>\n",
       "      <td>DX2</td>\n",
       "      <td>0.36</td>\n",
       "      <td>0.229456</td>\n",
       "      <td>YES</td>\n",
       "      <td>RURAL</td>\n",
       "      <td>Stable</td>\n",
       "      <td>1.0</td>\n",
       "      <td>0.0</td>\n",
       "      <td>0.0</td>\n",
       "      <td>0.0</td>\n",
       "      <td>0.0</td>\n",
       "      <td>0.0</td>\n",
       "      <td>1.0</td>\n",
       "      <td>1</td>\n",
       "    </tr>\n",
       "    <tr>\n",
       "      <th>2</th>\n",
       "      <td>6283</td>\n",
       "      <td>23</td>\n",
       "      <td>10446</td>\n",
       "      <td>DX6</td>\n",
       "      <td>0.48</td>\n",
       "      <td>0.275100</td>\n",
       "      <td>YES</td>\n",
       "      <td>RURAL</td>\n",
       "      <td>Stable</td>\n",
       "      <td>1.0</td>\n",
       "      <td>0.0</td>\n",
       "      <td>0.0</td>\n",
       "      <td>0.0</td>\n",
       "      <td>0.0</td>\n",
       "      <td>0.0</td>\n",
       "      <td>1.0</td>\n",
       "      <td>0</td>\n",
       "    </tr>\n",
       "    <tr>\n",
       "      <th>3</th>\n",
       "      <td>5339</td>\n",
       "      <td>51</td>\n",
       "      <td>12011</td>\n",
       "      <td>DX1</td>\n",
       "      <td>0.05</td>\n",
       "      <td>0.191310</td>\n",
       "      <td>NO</td>\n",
       "      <td>URBAN</td>\n",
       "      <td>Stable</td>\n",
       "      <td>1.0</td>\n",
       "      <td>0.0</td>\n",
       "      <td>0.0</td>\n",
       "      <td>0.0</td>\n",
       "      <td>0.0</td>\n",
       "      <td>0.0</td>\n",
       "      <td>1.0</td>\n",
       "      <td>1</td>\n",
       "    </tr>\n",
       "    <tr>\n",
       "      <th>5</th>\n",
       "      <td>10808</td>\n",
       "      <td>45</td>\n",
       "      <td>7977</td>\n",
       "      <td>DX6</td>\n",
       "      <td>0.47</td>\n",
       "      <td>0.261551</td>\n",
       "      <td>YES</td>\n",
       "      <td>URBAN</td>\n",
       "      <td>Stable</td>\n",
       "      <td>1.0</td>\n",
       "      <td>0.0</td>\n",
       "      <td>0.0</td>\n",
       "      <td>0.0</td>\n",
       "      <td>0.0</td>\n",
       "      <td>0.0</td>\n",
       "      <td>1.0</td>\n",
       "      <td>0</td>\n",
       "    </tr>\n",
       "    <tr>\n",
       "      <th>...</th>\n",
       "      <td>...</td>\n",
       "      <td>...</td>\n",
       "      <td>...</td>\n",
       "      <td>...</td>\n",
       "      <td>...</td>\n",
       "      <td>...</td>\n",
       "      <td>...</td>\n",
       "      <td>...</td>\n",
       "      <td>...</td>\n",
       "      <td>...</td>\n",
       "      <td>...</td>\n",
       "      <td>...</td>\n",
       "      <td>...</td>\n",
       "      <td>...</td>\n",
       "      <td>...</td>\n",
       "      <td>...</td>\n",
       "      <td>...</td>\n",
       "    </tr>\n",
       "    <tr>\n",
       "      <th>23092</th>\n",
       "      <td>15613</td>\n",
       "      <td>3</td>\n",
       "      <td>1548</td>\n",
       "      <td>DX2 DX4</td>\n",
       "      <td>0.14</td>\n",
       "      <td>0.186434</td>\n",
       "      <td>NO</td>\n",
       "      <td>RURAL</td>\n",
       "      <td>Stable</td>\n",
       "      <td>1.0</td>\n",
       "      <td>1.0</td>\n",
       "      <td>0.0</td>\n",
       "      <td>1.0</td>\n",
       "      <td>1.0</td>\n",
       "      <td>1.0</td>\n",
       "      <td>5.0</td>\n",
       "      <td>0</td>\n",
       "    </tr>\n",
       "    <tr>\n",
       "      <th>23093</th>\n",
       "      <td>15503</td>\n",
       "      <td>41</td>\n",
       "      <td>2769</td>\n",
       "      <td>DX6</td>\n",
       "      <td>0.55</td>\n",
       "      <td>0.236846</td>\n",
       "      <td>NO</td>\n",
       "      <td>RURAL</td>\n",
       "      <td>Stable</td>\n",
       "      <td>1.0</td>\n",
       "      <td>0.0</td>\n",
       "      <td>0.0</td>\n",
       "      <td>0.0</td>\n",
       "      <td>0.0</td>\n",
       "      <td>0.0</td>\n",
       "      <td>1.0</td>\n",
       "      <td>1</td>\n",
       "    </tr>\n",
       "    <tr>\n",
       "      <th>23094</th>\n",
       "      <td>2167</td>\n",
       "      <td>24</td>\n",
       "      <td>7671</td>\n",
       "      <td>DX6</td>\n",
       "      <td>0.63</td>\n",
       "      <td>0.275000</td>\n",
       "      <td>YES</td>\n",
       "      <td>RURAL</td>\n",
       "      <td>Stable</td>\n",
       "      <td>1.0</td>\n",
       "      <td>0.0</td>\n",
       "      <td>0.0</td>\n",
       "      <td>0.0</td>\n",
       "      <td>0.0</td>\n",
       "      <td>0.0</td>\n",
       "      <td>1.0</td>\n",
       "      <td>0</td>\n",
       "    </tr>\n",
       "    <tr>\n",
       "      <th>23095</th>\n",
       "      <td>31646</td>\n",
       "      <td>11</td>\n",
       "      <td>5764</td>\n",
       "      <td>DX3</td>\n",
       "      <td>0.25</td>\n",
       "      <td>0.237191</td>\n",
       "      <td>YES</td>\n",
       "      <td>RURAL</td>\n",
       "      <td>Stable</td>\n",
       "      <td>1.0</td>\n",
       "      <td>0.0</td>\n",
       "      <td>0.0</td>\n",
       "      <td>0.0</td>\n",
       "      <td>1.0</td>\n",
       "      <td>0.0</td>\n",
       "      <td>2.0</td>\n",
       "      <td>1</td>\n",
       "    </tr>\n",
       "    <tr>\n",
       "      <th>23096</th>\n",
       "      <td>3947</td>\n",
       "      <td>21</td>\n",
       "      <td>6266</td>\n",
       "      <td>DX6</td>\n",
       "      <td>0.50</td>\n",
       "      <td>0.183912</td>\n",
       "      <td>YES</td>\n",
       "      <td>RURAL</td>\n",
       "      <td>Stable</td>\n",
       "      <td>1.0</td>\n",
       "      <td>0.0</td>\n",
       "      <td>1.0</td>\n",
       "      <td>1.0</td>\n",
       "      <td>1.0</td>\n",
       "      <td>0.0</td>\n",
       "      <td>4.0</td>\n",
       "      <td>0</td>\n",
       "    </tr>\n",
       "  </tbody>\n",
       "</table>\n",
       "<p>23084 rows × 17 columns</p>\n",
       "</div>"
      ],
      "text/plain": [
       "       ID_Patient_Care_Situation  Diagnosed_Condition  Patient_ID  \\\n",
       "0                          22374                    8        3333   \n",
       "1                          18164                    5        5740   \n",
       "2                           6283                   23       10446   \n",
       "3                           5339                   51       12011   \n",
       "5                          10808                   45        7977   \n",
       "...                          ...                  ...         ...   \n",
       "23092                      15613                    3        1548   \n",
       "23093                      15503                   41        2769   \n",
       "23094                       2167                   24        7671   \n",
       "23095                      31646                   11        5764   \n",
       "23096                       3947                   21        6266   \n",
       "\n",
       "      Treated_with_drugs  Patient_Age  Patient_Body_Mass_Index Patient_Smoker  \\\n",
       "0                    DX6         0.56                 0.184794            YES   \n",
       "1                   DX2          0.36                 0.229456            YES   \n",
       "2                    DX6         0.48                 0.275100            YES   \n",
       "3                   DX1          0.05                 0.191310             NO   \n",
       "5                    DX6         0.47                 0.261551            YES   \n",
       "...                  ...          ...                      ...            ...   \n",
       "23092           DX2 DX4          0.14                 0.186434             NO   \n",
       "23093                DX6         0.55                 0.236846             NO   \n",
       "23094                DX6         0.63                 0.275000            YES   \n",
       "23095               DX3          0.25                 0.237191            YES   \n",
       "23096                DX6         0.50                 0.183912            YES   \n",
       "\n",
       "      Patient_Rural_Urban Patient_mental_condition    A    B    C    D    E  \\\n",
       "0                   URBAN                   Stable  1.0  0.0  0.0  0.0  1.0   \n",
       "1                   RURAL                   Stable  1.0  0.0  0.0  0.0  0.0   \n",
       "2                   RURAL                   Stable  1.0  0.0  0.0  0.0  0.0   \n",
       "3                   URBAN                   Stable  1.0  0.0  0.0  0.0  0.0   \n",
       "5                   URBAN                   Stable  1.0  0.0  0.0  0.0  0.0   \n",
       "...                   ...                      ...  ...  ...  ...  ...  ...   \n",
       "23092               RURAL                   Stable  1.0  1.0  0.0  1.0  1.0   \n",
       "23093               RURAL                   Stable  1.0  0.0  0.0  0.0  0.0   \n",
       "23094               RURAL                   Stable  1.0  0.0  0.0  0.0  0.0   \n",
       "23095               RURAL                   Stable  1.0  0.0  0.0  0.0  1.0   \n",
       "23096               RURAL                   Stable  1.0  0.0  1.0  1.0  1.0   \n",
       "\n",
       "         F  Number_of_prev_cond  Survived_1_year  \n",
       "0      0.0                  2.0                0  \n",
       "1      0.0                  1.0                1  \n",
       "2      0.0                  1.0                0  \n",
       "3      0.0                  1.0                1  \n",
       "5      0.0                  1.0                0  \n",
       "...    ...                  ...              ...  \n",
       "23092  1.0                  5.0                0  \n",
       "23093  0.0                  1.0                1  \n",
       "23094  0.0                  1.0                0  \n",
       "23095  0.0                  2.0                1  \n",
       "23096  0.0                  4.0                0  \n",
       "\n",
       "[23084 rows x 17 columns]"
      ]
     },
     "execution_count": 72,
     "metadata": {},
     "output_type": "execute_result"
    }
   ],
   "source": [
    "df_normalized"
   ]
  },
  {
   "cell_type": "markdown",
   "metadata": {},
   "source": [
    "### Splitting Data"
   ]
  },
  {
   "cell_type": "code",
   "execution_count": 47,
   "metadata": {},
   "outputs": [],
   "source": [
    "from sklearn.model_selection import train_test_split"
   ]
  },
  {
   "cell_type": "code",
   "execution_count": 75,
   "metadata": {},
   "outputs": [],
   "source": [
    "X = np.array(df[['Patient_Age', 'Patient_Body_Mass_Index', 'Number_of_prev_cond']])\n",
    "y = np.array(df['Survived_1_year'])\n",
    "X_norm = np.array(df_normalized[['Patient_Age', 'Patient_Body_Mass_Index', 'Number_of_prev_cond']])\n",
    "y_norm = np.array(df_normalized['Survived_1_year'])"
   ]
  },
  {
   "cell_type": "markdown",
   "metadata": {},
   "source": [
    "### Code to split 60/20/20"
   ]
  },
  {
   "cell_type": "code",
   "execution_count": 49,
   "metadata": {},
   "outputs": [],
   "source": [
    "x_train, x_test_prime, y_train, y_test_prime = train_test_split(X, y, test_size=.40, random_state=42)"
   ]
  },
  {
   "cell_type": "code",
   "execution_count": 50,
   "metadata": {},
   "outputs": [],
   "source": [
    "x_validate, x_test, y_validate, y_test = train_test_split(x_test_prime, y_test_prime, test_size=.50, random_state=42)"
   ]
  },
  {
   "cell_type": "code",
   "execution_count": 51,
   "metadata": {},
   "outputs": [
    {
     "name": "stdout",
     "output_type": "stream",
     "text": [
      "13850 4617 4617\n"
     ]
    }
   ],
   "source": [
    "print(len(x_train), len(x_validate), len(x_test))"
   ]
  },
  {
   "cell_type": "code",
   "execution_count": 76,
   "metadata": {},
   "outputs": [],
   "source": [
    "x_train_norm, x_test_prime_norm, y_train_norm, y_test_prime_norm = train_test_split(X_norm, y_norm, test_size=.40, random_state=42)"
   ]
  },
  {
   "cell_type": "code",
   "execution_count": 77,
   "metadata": {},
   "outputs": [],
   "source": [
    "x_validate_norm, x_test_norm, y_validate_norm, y_test_norm = train_test_split(x_test_prime_norm, y_test_prime_norm, test_size=.50, random_state=42)"
   ]
  },
  {
   "cell_type": "code",
   "execution_count": 78,
   "metadata": {},
   "outputs": [
    {
     "name": "stdout",
     "output_type": "stream",
     "text": [
      "13850 4617 4617\n"
     ]
    }
   ],
   "source": [
    "print(len(x_train_norm), len(x_validate_norm), len(x_test_norm))"
   ]
  },
  {
   "cell_type": "markdown",
   "metadata": {},
   "source": [
    "### Code to split 80/10/10"
   ]
  },
  {
   "cell_type": "code",
   "execution_count": 52,
   "metadata": {},
   "outputs": [],
   "source": [
    "x_train2, x_test_prime2, y_train2, y_test_prime2 = train_test_split(X, y, test_size=.20, random_state=42)"
   ]
  },
  {
   "cell_type": "code",
   "execution_count": 53,
   "metadata": {},
   "outputs": [],
   "source": [
    "x_validate2, x_test2, y_validate2, y_test2 = train_test_split(x_test_prime2, y_test_prime2, test_size=.50, random_state=42)"
   ]
  },
  {
   "cell_type": "code",
   "execution_count": 54,
   "metadata": {},
   "outputs": [
    {
     "name": "stdout",
     "output_type": "stream",
     "text": [
      "18467 2308 2309\n"
     ]
    }
   ],
   "source": [
    "print(len(x_train2), len(x_validate2), len(x_test2))"
   ]
  },
  {
   "cell_type": "code",
   "execution_count": 79,
   "metadata": {},
   "outputs": [],
   "source": [
    "x_train2_norm, x_test_prime2_norm, y_train2_norm, y_test_prime2_norm = train_test_split(X_norm, y_norm, test_size=.20, random_state=42)"
   ]
  },
  {
   "cell_type": "code",
   "execution_count": 80,
   "metadata": {},
   "outputs": [],
   "source": [
    "x_validate2_norm, x_test2_norm, y_validate2_norm, y_test2_norm = train_test_split(x_test_prime2_norm, y_test_prime2_norm, test_size=.50, random_state=42)"
   ]
  },
  {
   "cell_type": "code",
   "execution_count": 81,
   "metadata": {},
   "outputs": [
    {
     "name": "stdout",
     "output_type": "stream",
     "text": [
      "18467 2308 2309\n"
     ]
    }
   ],
   "source": [
    "print(len(x_train2_norm), len(x_validate2_norm), len(x_test2_norm))"
   ]
  },
  {
   "cell_type": "markdown",
   "metadata": {},
   "source": [
    "### Creating decision tree model"
   ]
  },
  {
   "cell_type": "code",
   "execution_count": 55,
   "metadata": {},
   "outputs": [],
   "source": [
    "from sklearn import tree"
   ]
  },
  {
   "cell_type": "code",
   "execution_count": 56,
   "metadata": {},
   "outputs": [],
   "source": [
    "treemodel = tree.DecisionTreeClassifier()"
   ]
  },
  {
   "cell_type": "code",
   "execution_count": 57,
   "metadata": {},
   "outputs": [],
   "source": [
    "treemodel = treemodel.fit(x_train,y_train)"
   ]
  },
  {
   "cell_type": "code",
   "execution_count": 59,
   "metadata": {},
   "outputs": [],
   "source": [
    "y_validate_pred = treemodel.predict(x_validate)"
   ]
  },
  {
   "cell_type": "code",
   "execution_count": 60,
   "metadata": {},
   "outputs": [
    {
     "data": {
      "text/plain": [
       "array([0, 1, 0, ..., 0, 0, 1], dtype=int64)"
      ]
     },
     "execution_count": 60,
     "metadata": {},
     "output_type": "execute_result"
    }
   ],
   "source": [
    "y_validate_pred"
   ]
  },
  {
   "cell_type": "code",
   "execution_count": null,
   "metadata": {},
   "outputs": [],
   "source": []
  },
  {
   "cell_type": "code",
   "execution_count": 61,
   "metadata": {},
   "outputs": [],
   "source": [
    "treemodel2 = treemodel.fit(x_train2,y_train2)"
   ]
  },
  {
   "cell_type": "code",
   "execution_count": 62,
   "metadata": {},
   "outputs": [],
   "source": [
    "y_validate_pred2 = treemodel.predict(x_validate2)"
   ]
  },
  {
   "cell_type": "code",
   "execution_count": 63,
   "metadata": {},
   "outputs": [
    {
     "data": {
      "text/plain": [
       "array([1, 1, 1, ..., 0, 1, 0], dtype=int64)"
      ]
     },
     "execution_count": 63,
     "metadata": {},
     "output_type": "execute_result"
    }
   ],
   "source": [
    "y_validate_pred2"
   ]
  },
  {
   "cell_type": "code",
   "execution_count": null,
   "metadata": {},
   "outputs": [],
   "source": []
  },
  {
   "cell_type": "code",
   "execution_count": 82,
   "metadata": {},
   "outputs": [],
   "source": [
    "treemodel_norm = treemodel.fit(x_train_norm, y_train_norm)"
   ]
  },
  {
   "cell_type": "code",
   "execution_count": 83,
   "metadata": {},
   "outputs": [],
   "source": [
    "y_validate_pred_norm = treemodel.predict(x_validate_norm)"
   ]
  },
  {
   "cell_type": "code",
   "execution_count": 84,
   "metadata": {},
   "outputs": [
    {
     "data": {
      "text/plain": [
       "array([0, 1, 0, ..., 0, 0, 1], dtype=int64)"
      ]
     },
     "execution_count": 84,
     "metadata": {},
     "output_type": "execute_result"
    }
   ],
   "source": [
    "y_validate_pred_norm"
   ]
  },
  {
   "cell_type": "code",
   "execution_count": null,
   "metadata": {},
   "outputs": [],
   "source": []
  },
  {
   "cell_type": "code",
   "execution_count": 85,
   "metadata": {},
   "outputs": [],
   "source": [
    "treemodel2_norm = treemodel.fit(x_train2_norm, y_train2_norm)"
   ]
  },
  {
   "cell_type": "code",
   "execution_count": 86,
   "metadata": {},
   "outputs": [],
   "source": [
    "y_validate_pred2_norm = treemodel.predict(x_validate2_norm)"
   ]
  },
  {
   "cell_type": "code",
   "execution_count": 87,
   "metadata": {},
   "outputs": [
    {
     "data": {
      "text/plain": [
       "array([1, 1, 1, ..., 0, 1, 0], dtype=int64)"
      ]
     },
     "execution_count": 87,
     "metadata": {},
     "output_type": "execute_result"
    }
   ],
   "source": [
    "y_validate_pred2_norm"
   ]
  },
  {
   "cell_type": "markdown",
   "metadata": {},
   "source": [
    "### Measuring Performance"
   ]
  },
  {
   "cell_type": "code",
   "execution_count": 64,
   "metadata": {},
   "outputs": [],
   "source": [
    "from sklearn import metrics"
   ]
  },
  {
   "cell_type": "code",
   "execution_count": 65,
   "metadata": {},
   "outputs": [],
   "source": [
    "accuracy = metrics.accuracy_score(y_validate,y_validate_pred)\n",
    "precision = metrics.precision_score(y_validate,y_validate_pred)"
   ]
  },
  {
   "cell_type": "code",
   "execution_count": 66,
   "metadata": {},
   "outputs": [
    {
     "name": "stdout",
     "output_type": "stream",
     "text": [
      "0.6175005414771496 0.7119910347403811\n"
     ]
    }
   ],
   "source": [
    "print(accuracy, precision)"
   ]
  },
  {
   "cell_type": "code",
   "execution_count": 67,
   "metadata": {},
   "outputs": [],
   "source": [
    "accuracy2 = metrics.accuracy_score(y_validate2,y_validate_pred2)"
   ]
  },
  {
   "cell_type": "code",
   "execution_count": 68,
   "metadata": {},
   "outputs": [
    {
     "name": "stdout",
     "output_type": "stream",
     "text": [
      "0.6460138648180243\n"
     ]
    }
   ],
   "source": [
    "print(accuracy2)"
   ]
  },
  {
   "cell_type": "code",
   "execution_count": 88,
   "metadata": {},
   "outputs": [],
   "source": [
    "accuracy_norm = metrics.accuracy_score(y_validate_norm, y_validate_pred_norm)\n",
    "precision_norm = metrics.precision_score(y_validate_norm, y_validate_pred_norm)"
   ]
  },
  {
   "cell_type": "code",
   "execution_count": 89,
   "metadata": {},
   "outputs": [
    {
     "name": "stdout",
     "output_type": "stream",
     "text": [
      "0.6168507688975525 0.7110365398956003\n"
     ]
    }
   ],
   "source": [
    "print(accuracy_norm, precision_norm)"
   ]
  },
  {
   "cell_type": "code",
   "execution_count": 90,
   "metadata": {},
   "outputs": [],
   "source": [
    "accuracy2_norm = metrics.accuracy_score(y_validate2_norm, y_validate_pred2_norm)"
   ]
  },
  {
   "cell_type": "code",
   "execution_count": 91,
   "metadata": {},
   "outputs": [
    {
     "name": "stdout",
     "output_type": "stream",
     "text": [
      "0.6464471403812825\n"
     ]
    }
   ],
   "source": [
    "print(accuracy2_norm)"
   ]
  },
  {
   "cell_type": "code",
   "execution_count": null,
   "metadata": {},
   "outputs": [],
   "source": []
  }
 ],
 "metadata": {
  "kernelspec": {
   "display_name": "Python 3",
   "language": "python",
   "name": "python3"
  },
  "language_info": {
   "codemirror_mode": {
    "name": "ipython",
    "version": 3
   },
   "file_extension": ".py",
   "mimetype": "text/x-python",
   "name": "python",
   "nbconvert_exporter": "python",
   "pygments_lexer": "ipython3",
   "version": "3.8.3"
  }
 },
 "nbformat": 4,
 "nbformat_minor": 4
}
